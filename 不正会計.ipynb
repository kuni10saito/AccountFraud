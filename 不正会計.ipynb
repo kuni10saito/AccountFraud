{
 "cells": [
  {
   "cell_type": "markdown",
   "metadata": {},
   "source": [
    "# Accounting Fraud Detection\n",
    "\n",
    "test version"
   ]
  },
  {
   "cell_type": "code",
   "execution_count": 1,
   "metadata": {
    "_cell_guid": "029ecde6-086d-7a8e-de44-363a7a23dbd8"
   },
   "outputs": [],
   "source": [
    "import pandas as pd\n",
    "import matplotlib.pyplot as plt\n",
    "import numpy as np\n",
    "\n",
    "%matplotlib inline"
   ]
  },
  {
   "cell_type": "markdown",
   "metadata": {},
   "source": [
    "#### アンダーサンプル済みのデータファイル読み込み"
   ]
  },
  {
   "cell_type": "code",
   "execution_count": 2,
   "metadata": {},
   "outputs": [
    {
     "data": {
      "text/html": [
       "<div>\n",
       "<style scoped>\n",
       "    .dataframe tbody tr th:only-of-type {\n",
       "        vertical-align: middle;\n",
       "    }\n",
       "\n",
       "    .dataframe tbody tr th {\n",
       "        vertical-align: top;\n",
       "    }\n",
       "\n",
       "    .dataframe thead th {\n",
       "        text-align: right;\n",
       "    }\n",
       "</style>\n",
       "<table border=\"1\" class=\"dataframe\">\n",
       "  <thead>\n",
       "    <tr style=\"text-align: right;\">\n",
       "      <th></th>\n",
       "      <th>Class</th>\n",
       "      <th>dt1</th>\n",
       "      <th>dt2</th>\n",
       "      <th>dt3</th>\n",
       "      <th>dt4</th>\n",
       "      <th>dt5</th>\n",
       "      <th>dt6</th>\n",
       "      <th>dt7</th>\n",
       "      <th>dt8</th>\n",
       "      <th>dt9</th>\n",
       "      <th>dt10</th>\n",
       "      <th>dt11</th>\n",
       "      <th>dt12</th>\n",
       "      <th>dt13</th>\n",
       "      <th>dt14</th>\n",
       "      <th>Acc</th>\n",
       "      <th>LI</th>\n",
       "    </tr>\n",
       "  </thead>\n",
       "  <tbody>\n",
       "    <tr>\n",
       "      <th>0</th>\n",
       "      <td>1</td>\n",
       "      <td>35455</td>\n",
       "      <td>8230</td>\n",
       "      <td>1766</td>\n",
       "      <td>23340</td>\n",
       "      <td>16467</td>\n",
       "      <td>44836</td>\n",
       "      <td>6493</td>\n",
       "      <td>-32</td>\n",
       "      <td>3949</td>\n",
       "      <td>18755</td>\n",
       "      <td>0</td>\n",
       "      <td>-1700</td>\n",
       "      <td>0</td>\n",
       "      <td>18988</td>\n",
       "      <td>-0.027824</td>\n",
       "      <td>0.545566</td>\n",
       "    </tr>\n",
       "    <tr>\n",
       "      <th>1</th>\n",
       "      <td>1</td>\n",
       "      <td>1292</td>\n",
       "      <td>796</td>\n",
       "      <td>0</td>\n",
       "      <td>14</td>\n",
       "      <td>535</td>\n",
       "      <td>807</td>\n",
       "      <td>133</td>\n",
       "      <td>2</td>\n",
       "      <td>118</td>\n",
       "      <td>715</td>\n",
       "      <td>0</td>\n",
       "      <td>4071000</td>\n",
       "      <td>0</td>\n",
       "      <td>756</td>\n",
       "      <td>-0.009700</td>\n",
       "      <td>0.266648</td>\n",
       "    </tr>\n",
       "    <tr>\n",
       "      <th>2</th>\n",
       "      <td>1</td>\n",
       "      <td>805</td>\n",
       "      <td>-190</td>\n",
       "      <td>-3</td>\n",
       "      <td>973</td>\n",
       "      <td>-276</td>\n",
       "      <td>-1209</td>\n",
       "      <td>9</td>\n",
       "      <td>-1</td>\n",
       "      <td>-81</td>\n",
       "      <td>1076</td>\n",
       "      <td>-1848</td>\n",
       "      <td>-19500</td>\n",
       "      <td>12400</td>\n",
       "      <td>1081</td>\n",
       "      <td>0.007475</td>\n",
       "      <td>0.373508</td>\n",
       "    </tr>\n",
       "    <tr>\n",
       "      <th>3</th>\n",
       "      <td>1</td>\n",
       "      <td>65696</td>\n",
       "      <td>21972</td>\n",
       "      <td>1633</td>\n",
       "      <td>3416</td>\n",
       "      <td>30676</td>\n",
       "      <td>123989</td>\n",
       "      <td>6181</td>\n",
       "      <td>477</td>\n",
       "      <td>10977</td>\n",
       "      <td>24188</td>\n",
       "      <td>1649</td>\n",
       "      <td>4923600</td>\n",
       "      <td>0</td>\n",
       "      <td>35020</td>\n",
       "      <td>-0.012113</td>\n",
       "      <td>0.666507</td>\n",
       "    </tr>\n",
       "    <tr>\n",
       "      <th>4</th>\n",
       "      <td>1</td>\n",
       "      <td>13329</td>\n",
       "      <td>7437</td>\n",
       "      <td>-1</td>\n",
       "      <td>-10846</td>\n",
       "      <td>4667</td>\n",
       "      <td>28063</td>\n",
       "      <td>2282</td>\n",
       "      <td>6</td>\n",
       "      <td>5915</td>\n",
       "      <td>10453</td>\n",
       "      <td>-10138</td>\n",
       "      <td>32778600</td>\n",
       "      <td>0</td>\n",
       "      <td>8662</td>\n",
       "      <td>-0.055699</td>\n",
       "      <td>0.703912</td>\n",
       "    </tr>\n",
       "  </tbody>\n",
       "</table>\n",
       "</div>"
      ],
      "text/plain": [
       "   Class    dt1    dt2   dt3    dt4    dt5     dt6   dt7  dt8    dt9   dt10  \\\n",
       "0      1  35455   8230  1766  23340  16467   44836  6493  -32   3949  18755   \n",
       "1      1   1292    796     0     14    535     807   133    2    118    715   \n",
       "2      1    805   -190    -3    973   -276   -1209     9   -1    -81   1076   \n",
       "3      1  65696  21972  1633   3416  30676  123989  6181  477  10977  24188   \n",
       "4      1  13329   7437    -1 -10846   4667   28063  2282    6   5915  10453   \n",
       "\n",
       "    dt11      dt12   dt13   dt14       Acc        LI  \n",
       "0      0     -1700      0  18988 -0.027824  0.545566  \n",
       "1      0   4071000      0    756 -0.009700  0.266648  \n",
       "2  -1848    -19500  12400   1081  0.007475  0.373508  \n",
       "3   1649   4923600      0  35020 -0.012113  0.666507  \n",
       "4 -10138  32778600      0   8662 -0.055699  0.703912  "
      ]
     },
     "execution_count": 2,
     "metadata": {},
     "output_type": "execute_result"
    }
   ],
   "source": [
    "data = pd.read_csv(\"./undesample.csv\")\n",
    "data.head()"
   ]
  },
  {
   "cell_type": "code",
   "execution_count": 3,
   "metadata": {},
   "outputs": [],
   "source": [
    "from sklearn.linear_model import LogisticRegression\n",
    "from sklearn.model_selection import train_test_split\n",
    "X = data.loc[:, data.columns != 'Class']\n",
    "y = data.loc[:, data.columns  == 'Class']\n",
    "\n",
    "X_train, X_test, y_train, y_test= train_test_split(X ,y,test_size = 0.3,random_state = 0)"
   ]
  },
  {
   "cell_type": "markdown",
   "metadata": {},
   "source": [
    "#### ロジスティック回帰適用\n",
    "- L2正則化　C=10"
   ]
  },
  {
   "cell_type": "code",
   "execution_count": 4,
   "metadata": {
    "scrolled": true
   },
   "outputs": [
    {
     "name": "stderr",
     "output_type": "stream",
     "text": [
      "C:\\Users\\saito\\Anaconda3\\envs\\base2\\lib\\site-packages\\sklearn\\linear_model\\logistic.py:433: FutureWarning: Default solver will be changed to 'lbfgs' in 0.22. Specify a solver to silence this warning.\n",
      "  FutureWarning)\n"
     ]
    },
    {
     "data": {
      "text/plain": [
       "0.6216867469879518"
      ]
     },
     "execution_count": 4,
     "metadata": {},
     "output_type": "execute_result"
    }
   ],
   "source": [
    "lr = LogisticRegression(C = 10, penalty = 'l2')\n",
    "lr.fit(X_train,y_train.values.ravel())\n",
    "lr.score(X_test,y_test.values.ravel())"
   ]
  },
  {
   "cell_type": "markdown",
   "metadata": {},
   "source": [
    "#### 再現率"
   ]
  },
  {
   "cell_type": "code",
   "execution_count": 5,
   "metadata": {},
   "outputs": [
    {
     "name": "stdout",
     "output_type": "stream",
     "text": [
      "0.594847775175644\n"
     ]
    }
   ],
   "source": [
    "from sklearn.metrics import recall_score\n",
    "y_pred = lr.predict(X_test.values)\n",
    "print(recall_score(y_test,y_pred))"
   ]
  },
  {
   "cell_type": "markdown",
   "metadata": {},
   "source": [
    "#### 適合率"
   ]
  },
  {
   "cell_type": "code",
   "execution_count": 6,
   "metadata": {},
   "outputs": [
    {
     "data": {
      "text/plain": [
       "0.6430379746835443"
      ]
     },
     "execution_count": 6,
     "metadata": {},
     "output_type": "execute_result"
    }
   ],
   "source": [
    "from sklearn.metrics import precision_score\n",
    "precision_score(y_test,y_pred)"
   ]
  },
  {
   "cell_type": "markdown",
   "metadata": {},
   "source": [
    "#### 混同行列"
   ]
  },
  {
   "cell_type": "code",
   "execution_count": 7,
   "metadata": {
    "scrolled": true
   },
   "outputs": [
    {
     "name": "stdout",
     "output_type": "stream",
     "text": [
      "[[262 141]\n",
      " [173 254]]\n"
     ]
    }
   ],
   "source": [
    "from sklearn.metrics import confusion_matrix\n",
    "cnf_matrix = confusion_matrix(y_test,y_pred)\n",
    "print(cnf_matrix)"
   ]
  },
  {
   "cell_type": "code",
   "execution_count": 8,
   "metadata": {
    "scrolled": true
   },
   "outputs": [
    {
     "name": "stderr",
     "output_type": "stream",
     "text": [
      "C:\\Users\\saito\\Anaconda3\\envs\\base2\\lib\\site-packages\\sklearn\\linear_model\\logistic.py:433: FutureWarning: Default solver will be changed to 'lbfgs' in 0.22. Specify a solver to silence this warning.\n",
      "  FutureWarning)\n",
      "C:\\Users\\saito\\Anaconda3\\envs\\base2\\lib\\site-packages\\sklearn\\utils\\validation.py:761: DataConversionWarning: A column-vector y was passed when a 1d array was expected. Please change the shape of y to (n_samples, ), for example using ravel().\n",
      "  y = column_or_1d(y, warn=True)\n"
     ]
    },
    {
     "data": {
      "text/plain": [
       "0.6204819277108434"
      ]
     },
     "execution_count": 8,
     "metadata": {},
     "output_type": "execute_result"
    }
   ],
   "source": [
    "lr0 = LogisticRegression(C = .001, penalty = 'l1')\n",
    "#lr1 = LogisticRegression()\n",
    "lr0.fit(X_train,y_train)\n",
    "lr0.score(X_test,y_test)"
   ]
  },
  {
   "cell_type": "markdown",
   "metadata": {
    "_cell_guid": "88765ef8-cb56-860a-d249-9691d90afcb2"
   },
   "source": [
    "#### 交差検証法もどき　 K_fold_scores"
   ]
  },
  {
   "cell_type": "code",
   "execution_count": 9,
   "metadata": {},
   "outputs": [],
   "source": [
    "#fold = KFold(len(y_test_undersample),5,shuffle=True) "
   ]
  },
  {
   "cell_type": "code",
   "execution_count": 10,
   "metadata": {},
   "outputs": [],
   "source": [
    "c_param_range = [0.01,0.1,1,10,100,1000]\n",
    "\n"
   ]
  },
  {
   "cell_type": "markdown",
   "metadata": {
    "_cell_guid": "29bf4990-1b01-52fc-6c37-d4414b0aafa7"
   },
   "source": [
    "### ROC曲線と Precision-Recall 曲線\n",
    "\n"
   ]
  },
  {
   "cell_type": "code",
   "execution_count": 12,
   "metadata": {
    "_cell_guid": "4a0d3339-cb16-5899-0b0e-f86636284a63"
   },
   "outputs": [
    {
     "name": "stderr",
     "output_type": "stream",
     "text": [
      "C:\\Users\\saito\\Anaconda3\\envs\\base2\\lib\\site-packages\\sklearn\\linear_model\\logistic.py:433: FutureWarning: Default solver will be changed to 'lbfgs' in 0.22. Specify a solver to silence this warning.\n",
      "  FutureWarning)\n"
     ]
    },
    {
     "data": {
      "image/png": "[encoded data removed]",
      "text/plain": [
       "<Figure size 432x288 with 1 Axes>"
      ]
     },
     "metadata": {
      "needs_background": "light"
     },
     "output_type": "display_data"
    }
   ],
   "source": [
    "from sklearn.metrics import roc_curve, auc\n",
    "# ROC CURVE\n",
    "# This code refers to kaggle page\n",
    "#    https://www.kaggle.com/mlg-ulb/creditcardfraud\n",
    "\n",
    "lr = LogisticRegression(C = 0.001, penalty = 'l1')\n",
    "y_pred_score = lr.fit(X_train,y_train.values.ravel()).decision_function(X_test.values)\n",
    "\n",
    "fpr, tpr, thresholds = roc_curve(y_test.values.ravel(),y_pred_score)\n",
    "roc_auc = auc(fpr,tpr)\n",
    "\n",
    "# Plot ROC\n",
    "plt.title('ROC')\n",
    "plt.plot(fpr, tpr, 'b',label='AUC = %0.2f'% roc_auc)\n",
    "plt.legend(loc='lower right')\n",
    "plt.plot([0,1],[0,1],'r--')\n",
    "plt.xlim([-0.1,1.0])\n",
    "plt.ylim([-0.1,1.01])\n",
    "plt.ylabel('True Positive Rate')\n",
    "plt.xlabel('False Positive Rate')\n",
    "plt.show()"
   ]
  },
  {
   "cell_type": "code",
   "execution_count": null,
   "metadata": {},
   "outputs": [],
   "source": []
  }
 ],
 "metadata": {
  "_change_revision": 4,
  "_is_fork": false,
  "kernelspec": {
   "display_name": "Python 3",
   "language": "python",
   "name": "python3"
  },
  "language_info": {
   "codemirror_mode": {
    "name": "ipython",
    "version": 3
   },
   "file_extension": ".py",
   "mimetype": "text/x-python",
   "name": "python",
   "nbconvert_exporter": "python",
   "pygments_lexer": "ipython3",
   "version": "3.6.7"
  },
  "toc": {
   "colors": {
    "hover_highlight": "#DAA520",
    "navigate_num": "#000000",
    "navigate_text": "#333333",
    "running_highlight": "#FF0000",
    "selected_highlight": "#FFD700",
    "sidebar_border": "#EEEEEE",
    "wrapper_background": "#FFFFFF"
   },
   "moveMenuLeft": true,
   "nav_menu": {
    "height": "512px",
    "width": "252px"
   },
   "navigate_menu": true,
   "number_sections": true,
   "sideBar": true,
   "threshold": 4,
   "toc_cell": false,
   "toc_section_display": "block",
   "toc_window_display": false,
   "widenNotebook": false
  }
 },
 "nbformat": 4,
 "nbformat_minor": 1
}
